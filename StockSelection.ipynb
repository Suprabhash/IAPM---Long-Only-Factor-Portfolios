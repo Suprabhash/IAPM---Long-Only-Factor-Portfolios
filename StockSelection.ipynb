{
 "cells": [
  {
   "cell_type": "code",
   "execution_count": 1,
   "metadata": {},
   "outputs": [],
   "source": [
    "%load_ext autoreload\n",
    "%autoreload 2"
   ]
  },
  {
   "cell_type": "code",
   "execution_count": 2,
   "metadata": {},
   "outputs": [],
   "source": [
    "import warnings\n",
    "warnings.filterwarnings(\"ignore\")"
   ]
  },
  {
   "cell_type": "code",
   "execution_count": 3,
   "metadata": {},
   "outputs": [],
   "source": [
    "\n",
    "%matplotlib inline\n",
    "import matplotlib.pyplot as plt\n",
    "plt.rcParams[\"figure.figsize\"] = (15,5)\n",
    "plt.rcParams['axes.grid'] = False\n",
    "import seaborn as sns\n",
    "sns.set_style(\"whitegrid\", {'axes.grid' : False})"
   ]
  },
  {
   "cell_type": "code",
   "execution_count": 32,
   "metadata": {},
   "outputs": [],
   "source": [
    "import pandas as pd\n",
    "import numpy as np"
   ]
  },
  {
   "attachments": {},
   "cell_type": "markdown",
   "metadata": {},
   "source": [
    "### Helper Functions"
   ]
  },
  {
   "cell_type": "code",
   "execution_count": 19,
   "metadata": {},
   "outputs": [],
   "source": [
    "def rolling_zscore(data, window_size):\n",
    "    # Calculate rolling mean and standard deviation\n",
    "    rolling_mean = data.rolling(window_size).mean()\n",
    "    rolling_std = data.rolling(window_size).std()\n",
    "\n",
    "    # Calculate z-score\n",
    "    zscore = (data - rolling_mean) / rolling_std\n",
    "\n",
    "    return zscore"
   ]
  },
  {
   "attachments": {},
   "cell_type": "markdown",
   "metadata": {},
   "source": [
    "### Data Intake"
   ]
  },
  {
   "cell_type": "code",
   "execution_count": 8,
   "metadata": {},
   "outputs": [],
   "source": [
    "tickers = list(pd.read_csv(\"ind_nifty200list.csv\")[\"Symbol\"])"
   ]
  },
  {
   "cell_type": "code",
   "execution_count": 11,
   "metadata": {},
   "outputs": [],
   "source": [
    "data = pd.read_csv(\"data.csv\").set_index(\"Datetime\")"
   ]
  },
  {
   "attachments": {},
   "cell_type": "markdown",
   "metadata": {},
   "source": [
    "MOM_ac: Price Momentum (12 months skip current month)"
   ]
  },
  {
   "cell_type": "code",
   "execution_count": 20,
   "metadata": {},
   "outputs": [],
   "source": [
    "for ticker in tickers:\n",
    "    data[f\"{ticker}_MOM_ac\"] = rolling_zscore(data[ticker].shift(30)/data[ticker].shift(365) - 1, 365)"
   ]
  },
  {
   "attachments": {},
   "cell_type": "markdown",
   "metadata": {},
   "source": [
    "MOM_vol: Price Momentum adjusted by daily vol (combination\n",
    "of 13 month and 7 month price momentum adjusted\n",
    "by daily return std deviation for the 13 month period)"
   ]
  },
  {
   "cell_type": "code",
   "execution_count": 26,
   "metadata": {},
   "outputs": [],
   "source": [
    "for ticker in tickers:\n",
    "    data[f\"{ticker}_MOM_vol\"] = 0.5*rolling_zscore(data[ticker].shift(30)/data[ticker].shift(13*30) - 1, 365)/data[ticker].rolling(13*30).apply(lambda x: x[:-30].std())+\\\n",
    "                                0.5*rolling_zscore(data[ticker].shift(30)/data[ticker].shift(7*30) - 1, 365)/data[ticker].rolling(13*30).apply(lambda x: x[:-30].std())"
   ]
  },
  {
   "attachments": {},
   "cell_type": "markdown",
   "metadata": {},
   "source": [
    "### LOVOL: 12 month daily price log return volatility from M-1 to M-13"
   ]
  },
  {
   "cell_type": "code",
   "execution_count": 39,
   "metadata": {},
   "outputs": [],
   "source": [
    "for ticker in tickers:\n",
    "    data[f\"{ticker}_LOVOL\"] = rolling_zscore(1/np.log(data[ticker]/data[ticker].shift(365)).rolling(13*30).apply(lambda x: x[:-30].std()),20)"
   ]
  },
  {
   "cell_type": "code",
   "execution_count": null,
   "metadata": {},
   "outputs": [],
   "source": []
  }
 ],
 "metadata": {
  "kernelspec": {
   "display_name": ".venv",
   "language": "python",
   "name": "python3"
  },
  "language_info": {
   "codemirror_mode": {
    "name": "ipython",
    "version": 3
   },
   "file_extension": ".py",
   "mimetype": "text/x-python",
   "name": "python",
   "nbconvert_exporter": "python",
   "pygments_lexer": "ipython3",
   "version": "3.9.6"
  },
  "orig_nbformat": 4
 },
 "nbformat": 4,
 "nbformat_minor": 2
}
